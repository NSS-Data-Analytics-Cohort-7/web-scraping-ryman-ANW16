{
 "cells": [
  {
   "cell_type": "code",
   "execution_count": null,
   "id": "fed1881c",
   "metadata": {},
   "outputs": [],
   "source": [
    "import requests\n",
    "from bs4 import BeautifulSoup as BS\n",
    "from IPython.core.display import HTML\n",
    "import pandas as pd"
   ]
  },
  {
   "cell_type": "code",
   "execution_count": null,
   "id": "d16302c3",
   "metadata": {},
   "outputs": [],
   "source": [
    "URL = 'https://ryman.com/events/list/?tribe_event_display=list&tribe_paged=1'\n",
    "\n",
    "response = requests.get(URL)"
   ]
  },
  {
   "cell_type": "code",
   "execution_count": null,
   "id": "4bf6fb3d",
   "metadata": {},
   "outputs": [],
   "source": [
    "response.status_code"
   ]
  },
  {
   "cell_type": "code",
   "execution_count": null,
   "id": "9773ce2d",
   "metadata": {},
   "outputs": [],
   "source": [
    "soup = BS(response.text)"
   ]
  },
  {
   "cell_type": "code",
   "execution_count": null,
   "id": "b3fc53f5",
   "metadata": {},
   "outputs": [],
   "source": [
    "print(soup.prettify())"
   ]
  },
  {
   "cell_type": "markdown",
   "id": "870ce827",
   "metadata": {},
   "source": [
    "## Q1. List of headliners at upcoming events."
   ]
  },
  {
   "cell_type": "markdown",
   "id": "04249f3c",
   "metadata": {},
   "source": [
    "#### Grabs lines with that have both the 'a' tag and have the 'class' attribute equaling 'tribe-event-url'."
   ]
  },
  {
   "cell_type": "code",
   "execution_count": null,
   "id": "95157155",
   "metadata": {
    "scrolled": false
   },
   "outputs": [],
   "source": [
    "events = soup.findAll('a', attrs={'class' : 'tribe-event-url'})"
   ]
  },
  {
   "cell_type": "markdown",
   "id": "410f785a",
   "metadata": {},
   "source": [
    "#### Goes through each pulled tag and grabs the title attribute, which happens to be the headliner for the event."
   ]
  },
  {
   "cell_type": "code",
   "execution_count": null,
   "id": "94ef13ef",
   "metadata": {},
   "outputs": [],
   "source": [
    "headliners = [x.get('title') for x in events]\n",
    "headliners"
   ]
  },
  {
   "cell_type": "markdown",
   "id": "27dc0d17",
   "metadata": {},
   "source": [
    "## Q2. Two lists, one for the date and one for the time of each event."
   ]
  },
  {
   "cell_type": "code",
   "execution_count": null,
   "id": "060f234d",
   "metadata": {},
   "outputs": [],
   "source": [
    "time = soup.findAll('time')\n",
    "time"
   ]
  },
  {
   "cell_type": "markdown",
   "id": "1cfde1c7",
   "metadata": {},
   "source": [
    "#### gets all the datetime data for each show"
   ]
  },
  {
   "cell_type": "code",
   "execution_count": null,
   "id": "25324bd1",
   "metadata": {},
   "outputs": [],
   "source": [
    "datetime = [x.get('datetime') for x in time]\n",
    "datetime"
   ]
  },
  {
   "cell_type": "markdown",
   "id": "1c0ba1e3",
   "metadata": {},
   "source": [
    "#### splits date and time into seperate values"
   ]
  },
  {
   "cell_type": "code",
   "execution_count": null,
   "id": "41a07874",
   "metadata": {},
   "outputs": [],
   "source": [
    "date_and_time = [x.split(' ', 1) for x in datetime]\n",
    "date_and_time"
   ]
  },
  {
   "cell_type": "markdown",
   "id": "69c43901",
   "metadata": {},
   "source": [
    "## Q3. Making everything into a Dataframe."
   ]
  },
  {
   "cell_type": "markdown",
   "id": "c8012c52",
   "metadata": {},
   "source": [
    "#### date and time data frame"
   ]
  },
  {
   "cell_type": "code",
   "execution_count": null,
   "id": "88683284",
   "metadata": {},
   "outputs": [],
   "source": [
    "dat_df = pd.DataFrame(date_and_time, columns=('date', 'time'))\n",
    "dat_df"
   ]
  },
  {
   "cell_type": "markdown",
   "id": "2572322a",
   "metadata": {},
   "source": [
    "#### Headliners Dataframe"
   ]
  },
  {
   "cell_type": "code",
   "execution_count": null,
   "id": "5af3ae95",
   "metadata": {},
   "outputs": [],
   "source": [
    "hl_df = pd.DataFrame(headliners, columns=['Artists'])\n",
    "hl_df"
   ]
  },
  {
   "cell_type": "markdown",
   "id": "d83c24d3",
   "metadata": {},
   "source": [
    "## Q4. Scraping the first 5 pages."
   ]
  },
  {
   "cell_type": "markdown",
   "id": "188d43a2",
   "metadata": {},
   "source": [
    "#### URL with the number cut so that in can be changed in loop"
   ]
  },
  {
   "cell_type": "code",
   "execution_count": null,
   "id": "f906a5f9",
   "metadata": {
    "scrolled": true
   },
   "outputs": [],
   "source": [
    "URL_mp = 'https://ryman.com/events/list/?tribe_event_display=list&tribe_paged='"
   ]
  },
  {
   "cell_type": "markdown",
   "id": "7370b155",
   "metadata": {},
   "source": [
    "#### Code that scrapes the first 5, makes 2 df of shows and datetime, then merges into one df."
   ]
  },
  {
   "cell_type": "code",
   "execution_count": null,
   "id": "712b3d29",
   "metadata": {},
   "outputs": [],
   "source": [
    "for pages in range(1, 6):\n",
    "    req = requests.get(URL_mp + str(pages))\n",
    "    page_soup = BS(req.text, \"html.parser\")\n",
    "    container_headliner = page_soup.findAll('a', attrs={'class' : 'tribe-event-url'})\n",
    "    container_date = page_soup.findAll('time')\n",
    "    shows_df = pd.DataFrame([x.get('title') for x in container_headliner], columns=['Artists'])\n",
    "    dates_df = pd.DataFrame([x.get('datetime') for x in container_date], columns=['Date_and_Time'])\n",
    "    print(shows_df.merge(dates_df, left_index=True, right_index=True))"
   ]
  }
 ],
 "metadata": {
  "kernelspec": {
   "display_name": "Python 3 (ipykernel)",
   "language": "python",
   "name": "python3"
  },
  "language_info": {
   "codemirror_mode": {
    "name": "ipython",
    "version": 3
   },
   "file_extension": ".py",
   "mimetype": "text/x-python",
   "name": "python",
   "nbconvert_exporter": "python",
   "pygments_lexer": "ipython3",
   "version": "3.9.12"
  }
 },
 "nbformat": 4,
 "nbformat_minor": 5
}
