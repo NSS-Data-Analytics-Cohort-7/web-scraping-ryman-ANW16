{
 "cells": [
  {
   "cell_type": "code",
   "execution_count": null,
   "id": "e84ea206",
   "metadata": {},
   "outputs": [],
   "source": [
    "import requests\n",
    "from bs4 import BeautifulSoup as BS\n",
    "from IPython.core.display import HTML\n",
    "import pandas as pd"
   ]
  },
  {
   "cell_type": "code",
   "execution_count": null,
   "id": "5b5834f2",
   "metadata": {},
   "outputs": [],
   "source": [
    "URL = 'https://ryman.com/events/'\n",
    "\n",
    "response = requests.get(URL)"
   ]
  },
  {
   "cell_type": "code",
   "execution_count": null,
   "id": "beb40b83",
   "metadata": {},
   "outputs": [],
   "source": [
    "response.status_code"
   ]
  },
  {
   "cell_type": "code",
   "execution_count": null,
   "id": "bd66afcd",
   "metadata": {},
   "outputs": [],
   "source": [
    "soup = BS(response.text)"
   ]
  },
  {
   "cell_type": "code",
   "execution_count": null,
   "id": "b4993497",
   "metadata": {},
   "outputs": [],
   "source": [
    "print(soup.prettify())"
   ]
  },
  {
   "cell_type": "markdown",
   "id": "7959af51",
   "metadata": {},
   "source": [
    "## Q1. List of headliners at upcoming events."
   ]
  },
  {
   "cell_type": "markdown",
   "id": "1302ac55",
   "metadata": {},
   "source": [
    "#### Grabs lines with that have both the 'a' tag and have the 'class' attribute equaling 'tribe-event-url'."
   ]
  },
  {
   "cell_type": "code",
   "execution_count": null,
   "id": "ad4c2c50",
   "metadata": {
    "scrolled": false
   },
   "outputs": [],
   "source": [
    "events = soup.findAll('a', attrs={'class' : 'tribe-event-url'})"
   ]
  },
  {
   "cell_type": "markdown",
   "id": "aa79c903",
   "metadata": {},
   "source": [
    "#### Goes through each pulled tag and grabs the title attribute, which happens to be the headliner for the event."
   ]
  },
  {
   "cell_type": "code",
   "execution_count": null,
   "id": "a16b0e66",
   "metadata": {},
   "outputs": [],
   "source": [
    "headliners = [x.get('title') for x in events]\n",
    "headliners"
   ]
  },
  {
   "cell_type": "markdown",
   "id": "13ebd10b",
   "metadata": {},
   "source": [
    "## Q2. Two lists, one for the date and one for the time of each event."
   ]
  },
  {
   "cell_type": "code",
   "execution_count": null,
   "id": "6f85a19f",
   "metadata": {},
   "outputs": [],
   "source": [
    "time = soup.findAll('time')\n",
    "time"
   ]
  },
  {
   "cell_type": "markdown",
   "id": "9cd8902c",
   "metadata": {},
   "source": [
    "#### gets all the datetime data for each show"
   ]
  },
  {
   "cell_type": "code",
   "execution_count": null,
   "id": "3e33c12e",
   "metadata": {},
   "outputs": [],
   "source": [
    "datetime = [x.get('datetime') for x in time]\n",
    "datetime"
   ]
  },
  {
   "cell_type": "markdown",
   "id": "b6b380ee",
   "metadata": {},
   "source": [
    "#### splits date and time into seperate values"
   ]
  },
  {
   "cell_type": "code",
   "execution_count": null,
   "id": "83dc24b3",
   "metadata": {},
   "outputs": [],
   "source": [
    "date_and_time = [x.split(' ', 1) for x in datetime]\n",
    "date_and_time"
   ]
  },
  {
   "cell_type": "markdown",
   "id": "4f7a03c0",
   "metadata": {},
   "source": [
    "## Q3. Making everything into a Dataframe."
   ]
  },
  {
   "cell_type": "markdown",
   "id": "57bc5ce3",
   "metadata": {},
   "source": [
    "#### date and time data frame"
   ]
  },
  {
   "cell_type": "code",
   "execution_count": null,
   "id": "645cc477",
   "metadata": {},
   "outputs": [],
   "source": [
    "dat_df = pd.DataFrame(date_and_time, columns=('date', 'time'))\n",
    "dat_df"
   ]
  },
  {
   "cell_type": "markdown",
   "id": "3a4339be",
   "metadata": {},
   "source": [
    "#### Headliners Dataframe"
   ]
  },
  {
   "cell_type": "code",
   "execution_count": null,
   "id": "64a01ba7",
   "metadata": {},
   "outputs": [],
   "source": [
    "hl_df = pd.DataFrame(headliners, columns=['Artists'])\n",
    "hl_df"
   ]
  },
  {
   "cell_type": "code",
   "execution_count": null,
   "id": "00c6911d",
   "metadata": {},
   "outputs": [],
   "source": []
  }
 ],
 "metadata": {
  "kernelspec": {
   "display_name": "Python 3 (ipykernel)",
   "language": "python",
   "name": "python3"
  },
  "language_info": {
   "codemirror_mode": {
    "name": "ipython",
    "version": 3
   },
   "file_extension": ".py",
   "mimetype": "text/x-python",
   "name": "python",
   "nbconvert_exporter": "python",
   "pygments_lexer": "ipython3",
   "version": "3.9.12"
  }
 },
 "nbformat": 4,
 "nbformat_minor": 5
}
