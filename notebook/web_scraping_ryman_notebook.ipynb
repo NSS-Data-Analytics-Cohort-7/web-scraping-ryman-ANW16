{
 "cells": [
  {
   "cell_type": "code",
   "execution_count": null,
   "id": "76bb61ad",
   "metadata": {},
   "outputs": [],
   "source": [
    "import requests\n",
    "from bs4 import BeautifulSoup as BS\n",
    "from IPython.core.display import HTML\n",
    "import pandas as pd"
   ]
  },
  {
   "cell_type": "code",
   "execution_count": null,
   "id": "5375edf2",
   "metadata": {},
   "outputs": [],
   "source": [
    "URL = 'https://ryman.com/events/'\n",
    "\n",
    "response = requests.get(URL)"
   ]
  },
  {
   "cell_type": "code",
   "execution_count": null,
   "id": "08fdc6b1",
   "metadata": {},
   "outputs": [],
   "source": [
    "response.status_code"
   ]
  },
  {
   "cell_type": "code",
   "execution_count": null,
   "id": "aacbd612",
   "metadata": {},
   "outputs": [],
   "source": [
    "soup = BS(response.text)"
   ]
  },
  {
   "cell_type": "code",
   "execution_count": null,
   "id": "f1746e67",
   "metadata": {},
   "outputs": [],
   "source": [
    "print(soup.prettify())"
   ]
  },
  {
   "cell_type": "markdown",
   "id": "17273caa",
   "metadata": {},
   "source": [
    "## Q1. List of headliners at upcoming events."
   ]
  },
  {
   "cell_type": "markdown",
   "id": "fca66cb2",
   "metadata": {},
   "source": [
    "#### Grabs lines with that have both the 'a' tag and have the 'class' attribute equaling 'tribe-event-url'."
   ]
  },
  {
   "cell_type": "code",
   "execution_count": null,
   "id": "0c362811",
   "metadata": {
    "scrolled": false
   },
   "outputs": [],
   "source": [
    "events = soup.findAll('a', attrs={'class' : 'tribe-event-url'})"
   ]
  },
  {
   "cell_type": "markdown",
   "id": "8e8a0677",
   "metadata": {},
   "source": [
    "#### Goes through each pulled tag and grabs the title attribute, which happens to be the headliner for the event."
   ]
  },
  {
   "cell_type": "code",
   "execution_count": null,
   "id": "b2b6914b",
   "metadata": {},
   "outputs": [],
   "source": [
    "headliners = [x.get('title') for x in events]\n",
    "headliners"
   ]
  },
  {
   "cell_type": "markdown",
   "id": "8ea57602",
   "metadata": {},
   "source": [
    "## Q2. Two lists, one for the date and one for the time of each event."
   ]
  },
  {
   "cell_type": "code",
   "execution_count": null,
   "id": "2f6cba1c",
   "metadata": {},
   "outputs": [],
   "source": [
    "time = soup.findAll('time')\n",
    "time"
   ]
  },
  {
   "cell_type": "code",
   "execution_count": null,
   "id": "be7ce569",
   "metadata": {},
   "outputs": [],
   "source": [
    "datetime = [x.get('datetime') for x in time]\n",
    "datetime"
   ]
  },
  {
   "cell_type": "code",
   "execution_count": null,
   "id": "8363b0f3",
   "metadata": {},
   "outputs": [],
   "source": [
    "date = pd.DataFrame(datetime)\n",
    "date"
   ]
  },
  {
   "cell_type": "code",
   "execution_count": null,
   "id": "025ce1ff",
   "metadata": {},
   "outputs": [],
   "source": []
  }
 ],
 "metadata": {
  "kernelspec": {
   "display_name": "Python 3 (ipykernel)",
   "language": "python",
   "name": "python3"
  },
  "language_info": {
   "codemirror_mode": {
    "name": "ipython",
    "version": 3
   },
   "file_extension": ".py",
   "mimetype": "text/x-python",
   "name": "python",
   "nbconvert_exporter": "python",
   "pygments_lexer": "ipython3",
   "version": "3.9.12"
  }
 },
 "nbformat": 4,
 "nbformat_minor": 5
}
