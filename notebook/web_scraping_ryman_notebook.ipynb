{
 "cells": [
  {
   "cell_type": "code",
   "execution_count": null,
   "id": "8e79b9e0",
   "metadata": {},
   "outputs": [],
   "source": [
    "import requests\n",
    "from bs4 import BeautifulSoup as BS\n",
    "from IPython.core.display import HTML\n",
    "import pandas as pd\n",
    "import re"
   ]
  },
  {
   "cell_type": "code",
   "execution_count": null,
   "id": "0eea6b2a",
   "metadata": {},
   "outputs": [],
   "source": [
    "URL = 'https://ryman.com/events/list/?tribe_event_display=list&tribe_paged=1'\n",
    "\n",
    "response = requests.get(URL)"
   ]
  },
  {
   "cell_type": "code",
   "execution_count": null,
   "id": "15fa9878",
   "metadata": {},
   "outputs": [],
   "source": [
    "response.status_code"
   ]
  },
  {
   "cell_type": "code",
   "execution_count": null,
   "id": "0fbcbf2d",
   "metadata": {},
   "outputs": [],
   "source": [
    "soup = BS(response.text)"
   ]
  },
  {
   "cell_type": "code",
   "execution_count": null,
   "id": "655ba962",
   "metadata": {},
   "outputs": [],
   "source": [
    "print(soup.prettify())"
   ]
  },
  {
   "cell_type": "markdown",
   "id": "ccac57f1",
   "metadata": {},
   "source": [
    "## Q1. List of headliners at upcoming events."
   ]
  },
  {
   "cell_type": "markdown",
   "id": "ee56406a",
   "metadata": {},
   "source": [
    "#### Grabs lines with that have both the 'a' tag and have the 'class' attribute equaling 'tribe-event-url'."
   ]
  },
  {
   "cell_type": "code",
   "execution_count": null,
   "id": "bc15282b",
   "metadata": {
    "scrolled": false
   },
   "outputs": [],
   "source": [
    "events = soup.findAll('a', attrs={'class' : 'tribe-event-url'})"
   ]
  },
  {
   "cell_type": "markdown",
   "id": "45a81a40",
   "metadata": {},
   "source": [
    "#### Goes through each pulled tag and grabs the title attribute, which happens to be the headliner for the event."
   ]
  },
  {
   "cell_type": "code",
   "execution_count": null,
   "id": "a96fcf55",
   "metadata": {},
   "outputs": [],
   "source": [
    "headliners = [x.get('title') for x in events]\n",
    "headliners"
   ]
  },
  {
   "cell_type": "markdown",
   "id": "016051b7",
   "metadata": {},
   "source": [
    "## Q2. Two lists, one for the date and one for the time of each event."
   ]
  },
  {
   "cell_type": "code",
   "execution_count": null,
   "id": "43f08300",
   "metadata": {},
   "outputs": [],
   "source": [
    "time = soup.findAll('time')\n",
    "time"
   ]
  },
  {
   "cell_type": "markdown",
   "id": "f452de44",
   "metadata": {},
   "source": [
    "#### gets all the datetime data for each show"
   ]
  },
  {
   "cell_type": "code",
   "execution_count": null,
   "id": "550066e3",
   "metadata": {
    "scrolled": true
   },
   "outputs": [],
   "source": [
    "datetime = [x.get_text() for x in time]\n",
    "print(datetime)"
   ]
  },
  {
   "cell_type": "markdown",
   "id": "266b482f",
   "metadata": {},
   "source": [
    "#### splits date and time into seperate values"
   ]
  },
  {
   "cell_type": "code",
   "execution_count": null,
   "id": "d028083a",
   "metadata": {
    "scrolled": true
   },
   "outputs": [],
   "source": [
    "date_and_time = [x.split(' at ') for x in datetime]\n",
    "date_and_time"
   ]
  },
  {
   "cell_type": "markdown",
   "id": "b81af959",
   "metadata": {},
   "source": [
    "## Q3. Making everything into a Dataframe."
   ]
  },
  {
   "cell_type": "markdown",
   "id": "e21491ac",
   "metadata": {},
   "source": [
    "#### date and time data frame"
   ]
  },
  {
   "cell_type": "code",
   "execution_count": null,
   "id": "25a3da55",
   "metadata": {},
   "outputs": [],
   "source": [
    "dat_df = pd.DataFrame(date_and_time, columns=('date', 'time'))\n",
    "dat_df"
   ]
  },
  {
   "cell_type": "markdown",
   "id": "8e8c2688",
   "metadata": {},
   "source": [
    "#### Headliners Dataframe"
   ]
  },
  {
   "cell_type": "code",
   "execution_count": null,
   "id": "8e0a432f",
   "metadata": {},
   "outputs": [],
   "source": [
    "hl_df = pd.DataFrame(headliners, columns=['Artists'])\n",
    "hl_df"
   ]
  },
  {
   "cell_type": "markdown",
   "id": "95c1d9fc",
   "metadata": {},
   "source": [
    "## Q4. Scraping the first 5 pages."
   ]
  },
  {
   "cell_type": "markdown",
   "id": "2590f1c0",
   "metadata": {},
   "source": [
    "#### URL with the number cut so that in can be changed in loop"
   ]
  },
  {
   "cell_type": "code",
   "execution_count": null,
   "id": "35f01645",
   "metadata": {
    "scrolled": true
   },
   "outputs": [],
   "source": [
    "URL_mp = 'https://ryman.com/events/list/?tribe_event_display=list&tribe_paged='"
   ]
  },
  {
   "cell_type": "markdown",
   "id": "46cffa7a",
   "metadata": {},
   "source": [
    "#### Code that scrapes the first 5, makes 2 df of shows and datetime, then merges into one df."
   ]
  },
  {
   "cell_type": "code",
   "execution_count": null,
   "id": "e76cff79",
   "metadata": {},
   "outputs": [],
   "source": [
    "for pages in range(1, 6):\n",
    "    req = requests.get(URL_mp + str(pages))\n",
    "    page_soup = BS(req.text, \"html.parser\")\n",
    "    container_headliner = page_soup.findAll('a', attrs={'class' : 'tribe-event-url'})\n",
    "    container_date = page_soup.findAll('time')\n",
    "    shows_df = pd.DataFrame([x.get('title') for x in container_headliner], columns=['Artists'])\n",
    "    dates_df = pd.DataFrame([x.get_text() for x in container_date], columns=['Date_and_Time'])\n",
    "    display(shows_df.merge(dates_df, left_index=True, right_index=True))"
   ]
  },
  {
   "cell_type": "code",
   "execution_count": null,
   "id": "c9d503d2",
   "metadata": {},
   "outputs": [],
   "source": []
  }
 ],
 "metadata": {
  "kernelspec": {
   "display_name": "Python 3 (ipykernel)",
   "language": "python",
   "name": "python3"
  },
  "language_info": {
   "codemirror_mode": {
    "name": "ipython",
    "version": 3
   },
   "file_extension": ".py",
   "mimetype": "text/x-python",
   "name": "python",
   "nbconvert_exporter": "python",
   "pygments_lexer": "ipython3",
   "version": "3.9.12"
  }
 },
 "nbformat": 4,
 "nbformat_minor": 5
}
